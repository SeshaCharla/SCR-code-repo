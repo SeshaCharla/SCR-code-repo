{
 "cells": [
  {
   "cell_type": "code",
   "execution_count": 1,
   "metadata": {},
   "outputs": [],
   "source": [
    "%run -i reg_constraints.py"
   ]
  },
  {
   "cell_type": "code",
   "execution_count": 2,
   "metadata": {},
   "outputs": [],
   "source": [
    "ab = a*b\n",
    "apb = a+b\n",
    "zw2 = 2*z*w\n",
    "w2 = w**2\n",
    "\n",
    "# Constraints\n",
    "w2 = a0/(ab)\n",
    "zw2 = a3 - (apb)"
   ]
  },
  {
   "cell_type": "code",
   "execution_count": 3,
   "metadata": {},
   "outputs": [],
   "source": [
    "eq2 = a2 - (zw2 *(apb) + w2 + ab)\n",
    "eq3 = a1 - (zw2 *ab + w2*apb)"
   ]
  },
  {
   "cell_type": "code",
   "execution_count": 4,
   "metadata": {},
   "outputs": [
    {
     "data": {
      "text/latex": [
       "$\\displaystyle - \\frac{a_{0}}{\\alpha \\beta} + a_{2} - \\alpha \\beta - \\left(\\alpha + \\beta\\right) \\left(a_{3} - \\alpha - \\beta\\right)$"
      ],
      "text/plain": [
       "-a_0/(alpha*beta) + a_2 - alpha*beta - (alpha + beta)*(a_3 - alpha - beta)"
      ]
     },
     "execution_count": 4,
     "metadata": {},
     "output_type": "execute_result"
    }
   ],
   "source": [
    "eq2"
   ]
  },
  {
   "cell_type": "code",
   "execution_count": 5,
   "metadata": {},
   "outputs": [
    {
     "data": {
      "text/latex": [
       "$\\displaystyle - \\frac{a_{0} \\left(\\alpha + \\beta\\right)}{\\alpha \\beta} + a_{1} - \\alpha \\beta \\left(a_{3} - \\alpha - \\beta\\right)$"
      ],
      "text/plain": [
       "-a_0*(alpha + beta)/(alpha*beta) + a_1 - alpha*beta*(a_3 - alpha - beta)"
      ]
     },
     "execution_count": 5,
     "metadata": {},
     "output_type": "execute_result"
    }
   ],
   "source": [
    "eq3"
   ]
  },
  {
   "cell_type": "code",
   "execution_count": 6,
   "metadata": {},
   "outputs": [],
   "source": [
    "sp.solve([eq2, eq3], [a, b])"
   ]
  },
  {
   "cell_type": "code",
   "execution_count": null,
   "metadata": {},
   "outputs": [],
   "source": []
  }
 ],
 "metadata": {
  "kernelspec": {
   "display_name": "base",
   "language": "python",
   "name": "python3"
  },
  "language_info": {
   "codemirror_mode": {
    "name": "ipython",
    "version": 3
   },
   "file_extension": ".py",
   "mimetype": "text/x-python",
   "name": "python",
   "nbconvert_exporter": "python",
   "pygments_lexer": "ipython3",
   "version": "3.11.7"
  }
 },
 "nbformat": 4,
 "nbformat_minor": 2
}
